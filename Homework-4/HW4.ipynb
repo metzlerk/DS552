{
 "cells": [
  {
   "cell_type": "markdown",
   "metadata": {},
   "source": [
    "# DS 552 - Generative AI\n",
    "## Homework 4 - Kevin Metzler"
   ]
  },
  {
   "cell_type": "markdown",
   "metadata": {},
   "source": [
    "## Question 1"
   ]
  },
  {
   "cell_type": "markdown",
   "metadata": {},
   "source": [
    "### Q1: Explain the minimax loss function in GANs and how it ensures competitive training between the generator and discriminator.\n",
    "The minimax loss function in GANs is defined as:\n",
    "$$ \\min_G \\max_D \\mathbb{E}_{x \\sim p_{data}(x)} [\\log D(x)] + \\mathbb{E}_{z \\sim p_z(z)} [\\log (1 - D(G(z)))] $$\n",
    "\n",
    "The Generator (G) tries to generate data that is indistinguishable from real data, while the Discriminator (D) tries to distinguish between real data and generated data.\n",
    "\n",
    "The minimax loss ensures competitive training by encouraging the generator to produce more realistic data to fool the discriminator, while encouraging the discriminator to become better at distinguishing real data from generated data.\n",
    "\n",
    "### Q2: What is mode collapse, Why can mode collapse occur during GAN training? and how can it be mitigated?\n",
    "Mode collapse occurs when the generator produces limited diversity in its outputs, often generating the same or similar outputs for different inputs. This can be caused by the generator finding a few modes that successfully fool the discriminator and generating those modes and nothing else. Another possiblity is the discriminator may not penalize the lack of diversity in generation effectively.\n",
    "\n",
    "To mitigate this we can use Unrolled GANs, which temporarily unroll the optimization of the discriminator to provide more informative gradients to the generator. Also, mini-batch discrimination encourages the generator to produce diverse outputs by comparing batches of generated data to one another. Feature matching uses intermediate layer features of the discriminator to guide the generator to produce mroe diverse output.\n",
    "\n",
    "### Q3: Explain the role of the discriminator in adversarial training?\n",
    "The discriminator in adversarial training acts as a binary classifier that distinguishes between real and generated data. This provides feedback to the generator on how realistic the generated data is. It also helps improve the generator by providing gradients that guide the generator to produce more realistic data.\n",
    "\n",
    "### Q4: How do metrics like IS and FID evaluate GAN performance?\n",
    "Inception Score (IS) measures the quality and diversity of generated images. High IS indicates that generated images are both high-quality and diverse. IS can be computed using a pre-trained Inception network to classify generated images.\n",
    "\n",
    "Fréchet Inception Distance (FID) measures the distance between the distributions of real and generated images. Lower FID indicates that the generated images are closer to the real images in terms of distribution. This can be computed using the mean and covariance of features extracted from a pre-trained Inception network."
   ]
  },
  {
   "cell_type": "markdown",
   "metadata": {},
   "source": [
    "## Coding Assignment"
   ]
  }
 ],
 "metadata": {
  "language_info": {
   "name": "python"
  }
 },
 "nbformat": 4,
 "nbformat_minor": 2
}
